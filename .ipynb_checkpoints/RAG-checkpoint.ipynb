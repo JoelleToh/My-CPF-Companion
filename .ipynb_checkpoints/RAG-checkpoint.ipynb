{
 "cells": [
  {
   "cell_type": "code",
   "execution_count": 1,
   "id": "3d071d36-47f7-4cdf-aec9-85a41f7b9b99",
   "metadata": {},
   "outputs": [],
   "source": [
    "# Common imports\n",
    "import os\n",
    "from dotenv import load_dotenv\n",
    "from openai import OpenAI\n",
    "from langchain_openai import ChatOpenAI\n",
    "from langchain_openai import OpenAIEmbeddings\n",
    "\n",
    "# Importing Dependencies for RAG\n",
    "from langchain.document_loaders import PyPDFLoader\n",
    "from langchain_core.documents import Document\n",
    "from langchain_community.vectorstores import Chroma\n",
    "from langchain_openai import OpenAIEmbeddings\n",
    "from langchain_text_splitters import RecursiveCharacterTextSplitter\n",
    "\n",
    "\n",
    "#Import the key CrewAI classes\n",
    "# from crewai import Agent, Task, Crew\n",
    "\n",
    "import json\n",
    "import lolviz\n"
   ]
  },
  {
   "cell_type": "code",
   "execution_count": 3,
   "id": "f1708b03-5f38-41da-9363-d6aa4d805b96",
   "metadata": {},
   "outputs": [
    {
     "name": "stdout",
     "output_type": "stream",
     "text": [
      "OPENAI_MODEL_NAME = \"gpt-4o-mini\"\n"
     ]
    }
   ],
   "source": [
    "# Load .env for API password\n",
    "load_dotenv('.env')\n",
    "API_KEY = os.getenv(\"OPENAI_API_KEY\")\n",
    "client = OpenAI(api_key=API_KEY)\n",
    "\n",
    "# Check which openAI model we using \n",
    "print(f'OPENAI_MODEL_NAME = \"{os.getenv('OPENAI_MODEL_NAME')}\"')"
   ]
  },
  {
   "cell_type": "code",
   "execution_count": 5,
   "id": "5027fd96-2aa4-43bf-9eba-04c90fe2fc11",
   "metadata": {},
   "outputs": [],
   "source": [
    "# Note that this function directly take in \"messages\" as the parameter.\n",
    "def get_completion(messages, model=\"gpt-4o-mini\", temperature=0, top_p=1.0, max_tokens=1024, n=1):\n",
    "    response = client.chat.completions.create(\n",
    "        model=model,\n",
    "        messages=messages,\n",
    "        temperature=temperature,\n",
    "        top_p=top_p,\n",
    "        max_tokens=max_tokens,\n",
    "        n=1\n",
    "    )\n",
    "    return response.choices[0].message.content"
   ]
  },
  {
   "cell_type": "code",
   "execution_count": 7,
   "id": "9866645c-792d-4320-a335-95bd63f64605",
   "metadata": {},
   "outputs": [],
   "source": [
    "# This function is for calculating the tokens given the \"message\"\n",
    "\n",
    "import tiktoken\n",
    "\n",
    "def count_tokens(text):\n",
    "    encoding = tiktoken.encoding_for_model('gpt-4o-mini')\n",
    "    return len(encoding.encode(text))\n",
    "\n",
    "def count_tokens_from_message_rough(messages):\n",
    "    encoding = tiktoken.encoding_for_model('gpt-4o-mini')\n",
    "    value = ' '.join([x.get('content') for x in messages])\n",
    "    return len(encoding.encode(value))"
   ]
  },
  {
   "cell_type": "code",
   "execution_count": 9,
   "id": "945dccb7-5a72-4275-b2d2-c0868a39cad6",
   "metadata": {},
   "outputs": [],
   "source": [
    "# embedding model that we will use for the session\n",
    "embeddings_model = OpenAIEmbeddings(model='text-embedding-3-small')\n",
    "\n",
    "# llm to be used in RAG pipeplines in this notebook\n",
    "llm = ChatOpenAI(model='gpt-4o-mini', temperature=0, seed=42)"
   ]
  },
  {
   "cell_type": "code",
   "execution_count": 11,
   "id": "3d777f1d-1b69-4dd2-8337-b9bb7b485238",
   "metadata": {},
   "outputs": [
    {
     "name": "stdout",
     "output_type": "stream",
     "text": [
      "['CPF interest rates from 1 April 2024 to 30 June 2024.pdf', 'CPF interest rates from 1 January 2024 to 31 March 2024 and Basic Healthcare Sum for 2024.pdf', 'CPF interest rates from 1 July 2024 to 30 September 2024.pdf', 'Extends 4 percent interest rate floor until 31 Dec 25.pdf', 'Joint advisory on government official impersonation scam.pdf', 'Lowering maximum daily withdrawal limit.pdf', 'MoneySense marks 20th anniversary.pdf', 'National retirement planning.pdf', 'New default daily limit.pdf']\n",
      "\n",
      "9\n"
     ]
    }
   ],
   "source": [
    "# Get the name of the files in the folder\n",
    "\n",
    "# folder path\n",
    "dir_path = r'./News Releases'\n",
    "\n",
    "# list to store files\n",
    "filename_list = []\n",
    "\n",
    "# Iterate directory\n",
    "for path in os.listdir(dir_path):\n",
    "    # check if current path is a file\n",
    "    if os.path.isfile(os.path.join(dir_path, path)):\n",
    "        filename_list.append(path)\n",
    "\n",
    "# Print the list of filenames and the count\n",
    "print(filename_list)\n",
    "print()\n",
    "print(len(filename_list))"
   ]
  },
  {
   "cell_type": "code",
   "execution_count": 13,
   "id": "311ba6ac-2f37-4d5a-b91a-cbf6f16c87a1",
   "metadata": {},
   "outputs": [
    {
     "name": "stdout",
     "output_type": "stream",
     "text": [
      "Loaded CPF interest rates from 1 April 2024 to 30 June 2024.pdf\n",
      "Loaded CPF interest rates from 1 January 2024 to 31 March 2024 and Basic Healthcare Sum for 2024.pdf\n",
      "Loaded CPF interest rates from 1 July 2024 to 30 September 2024.pdf\n",
      "Loaded Extends 4 percent interest rate floor until 31 Dec 25.pdf\n",
      "Loaded Joint advisory on government official impersonation scam.pdf\n",
      "Loaded Lowering maximum daily withdrawal limit.pdf\n",
      "Loaded MoneySense marks 20th anniversary.pdf\n",
      "Loaded National retirement planning.pdf\n",
      "Loaded New default daily limit.pdf\n",
      "\n",
      "Total documents loaded: 20\n"
     ]
    }
   ],
   "source": [
    "from langchain.document_loaders import PyPDFLoader\n",
    "\n",
    "# load the documents\n",
    "list_of_documents_loaded = []\n",
    "for filename in filename_list:\n",
    "  if filename.endswith('.pdf'): \n",
    "    try:\n",
    "        # try to load the document\n",
    "        pdf_path = os.path.join('News Releases', filename)\n",
    "        loader = PyPDFLoader(pdf_path)\n",
    "\n",
    "        # load() returns a list of Document objects\n",
    "        data = loader.load()\n",
    "        # use extend() to add to the list_of_documents_loaded\n",
    "        list_of_documents_loaded.extend(data)\n",
    "        print(f\"Loaded {filename}\")\n",
    "\n",
    "    except Exception as e:\n",
    "        # if there is an error loading the document, print the error and continue to the next document\n",
    "        print(f\"Error loading {filename}: {e}\")\n",
    "        continue\n",
    "print()\n",
    "print(\"Total documents loaded:\", len(list_of_documents_loaded))"
   ]
  },
  {
   "cell_type": "code",
   "execution_count": 15,
   "id": "847ad51a-e929-43b6-9e84-559b0532d05f",
   "metadata": {},
   "outputs": [
    {
     "name": "stdout",
     "output_type": "stream",
     "text": [
      "Item 0 is a Document object.\n",
      "Item 1 is a Document object.\n",
      "Item 2 is a Document object.\n",
      "Item 3 is a Document object.\n",
      "Item 4 is a Document object.\n",
      "Item 5 is a Document object.\n",
      "Item 6 is a Document object.\n",
      "Item 7 is a Document object.\n",
      "Item 8 is a Document object.\n",
      "Item 9 is a Document object.\n",
      "Item 10 is a Document object.\n",
      "Item 11 is a Document object.\n",
      "Item 12 is a Document object.\n",
      "Item 13 is a Document object.\n",
      "Item 14 is a Document object.\n",
      "Item 15 is a Document object.\n",
      "Item 16 is a Document object.\n",
      "Item 17 is a Document object.\n",
      "Item 18 is a Document object.\n",
      "Item 19 is a Document object.\n"
     ]
    }
   ],
   "source": [
    "# Check if the items in list_of_documents_loaded are Document objects\n",
    "from langchain_core.documents import Document \n",
    "for i, doc in enumerate(list_of_documents_loaded):\n",
    "    if isinstance(doc, Document):\n",
    "        print(f\"Item {i} is a Document object.\")\n",
    "    else:\n",
    "        print(f\"Item {i} is NOT a Document object.\")\n"
   ]
  },
  {
   "cell_type": "code",
   "execution_count": 17,
   "id": "fb751eff-2b22-4016-ac16-2d9c9665171d",
   "metadata": {},
   "outputs": [
    {
     "data": {
      "text/plain": [
       "Document(metadata={'source': 'News Releases\\\\CPF interest rates from 1 April 2024 to 30 June 2024.pdf', 'page': 0}, page_content='1 / 2CPF interest rates from 1 April 2024 to 30 June 2024\\ncpf.gov .sg/member/infohub/news/news-releases/cpf-interest-rates-from-1-april-2024-to-30-june-2024\\nCPF Interest Rates from 1 April 2024 to 30 June 2024\\nOrdinary Account Special, MediSave and Retirement Account\\nInterest Rate\\nFloor2.5% 4.05%\\nCPF members below 55 years old\\nMembers earn an extra 1% interest  on the first $60,000 of their combined CPF\\nbalances\\nCPF members aged 55 and above\\nMembers earn an extra 2% interest  on the first $30,000 of their combined CPF\\nbalances, and an extra 1%  on the next $30,000\\nHDB Concessionary Interest Rate from 1 April 2024 to 30 June 2024\\nRemains unchanged at 2.6%\\nNote: All interest rates are quoted on a per annum basis.\\nWith the Special, MediSave and Retirement Account (SMRA) pegged rate exceeding the\\nfloor rate of 4%, savings in the SMRA will earn 4.05% in the second quarter of 2024. The\\nSMRA interest rate is pegged to the 12-month average yield of 10-year Singapore\\nGovernment Securities (10YSGS) plus 1%.\\nThe Ordinary Account (OA) interest rate will remain unchanged at 2.5% for the same period,\\nas the OA pegged rate remains below the floor rate of 2.5%. The Government will continue\\nto ensure that the CPF interest rate pegs remain relevant in the prevailing operating\\nenvironment while taking into consideration the longer-term outlook.\\nAs part of the Government’ s efforts to enhance the retirement savings for CPF members,\\nCPF members will earn extra interest on their CPF savings. For members below 55 years\\nold, they will earn extra 1% interest on the first $60,000 of their combined balances (capped')"
      ]
     },
     "execution_count": 17,
     "metadata": {},
     "output_type": "execute_result"
    }
   ],
   "source": [
    "list_of_documents_loaded[0]"
   ]
  },
  {
   "cell_type": "code",
   "execution_count": 96,
   "id": "898add0f-72ec-4ebe-885d-aa140596e3de",
   "metadata": {},
   "outputs": [
    {
     "data": {
      "text/plain": [
       "Document(metadata={'source': 'News Releases\\\\CPF interest rates from 1 April 2024 to 30 June 2024.pdf', 'page': 1}, page_content='2 / 2at $20,000 for OA). For members aged 55 and above, the Government pays an extra 2%\\ninterest on the first $30,000 of their combined balances (capped at $20,000 for OA), and an\\nextra 1% on the next $30,000.\\nThe extra interest received on the OA balances will go into the member ’s Special Account\\n(SA) or Retirement Account (RA). If a member is above 55 years old and participates in the\\nCPF LIFE scheme, the extra interest will still be earned on his or her combined CPF\\nbalances, which includes the savings used for CPF LIFE.\\nInterest Rate for CPF Ordinary Account and HDB Concessionary Interest Rate\\nThe OA interest rate will be maintained at 2.5% per annum from 1 April 2024 to 30 June\\n2024.\\nCorrespondingly , the concessionary interest rate for HDB housing loans, which is pegged at\\n0.1% above the OA interest rate, will remain unchanged at 2.6% per annum from 1 April\\n2024 to 30 June 2024.\\nInterest Rate for CPF Special, MediSave and Retirement Account\\nThe Special, MediSave and Retirement Account (SMRA) interest rate will be 4.05% per\\nannum from 1 April 2024 to 30 June 2024.\\nPublic Enquiries\\nFor more information on CPF interest rates and their computation, please visit CPF Interest\\nRates .\\n ')"
      ]
     },
     "execution_count": 96,
     "metadata": {},
     "output_type": "execute_result"
    }
   ],
   "source": [
    "list_of_documents_loaded[1]"
   ]
  },
  {
   "cell_type": "code",
   "execution_count": 19,
   "id": "3f069136-90d1-4a23-9821-bf8896485ed7",
   "metadata": {},
   "outputs": [
    {
     "name": "stdout",
     "output_type": "stream",
     "text": [
      "Document 1 -  has 427 tokens\n",
      "Document 2 -  has 312 tokens\n",
      "Document 3 -  has 405 tokens\n",
      "Document 4 -  has 625 tokens\n",
      "Document 5 -  has 224 tokens\n",
      "Document 6 -  has 444 tokens\n",
      "Document 7 -  has 216 tokens\n",
      "Document 8 -  has 443 tokens\n",
      "Document 9 -  has 335 tokens\n",
      "Document 10 -  has 533 tokens\n",
      "Document 11 -  has 431 tokens\n",
      "Document 12 -  has 590 tokens\n",
      "Document 13 -  has 413 tokens\n",
      "Document 14 -  has 550 tokens\n",
      "Document 15 -  has 99 tokens\n",
      "Document 16 -  has 486 tokens\n",
      "Document 17 -  has 588 tokens\n",
      "Document 18 -  has 149 tokens\n",
      "Document 19 -  has 518 tokens\n",
      "Document 20 -  has 413 tokens\n"
     ]
    }
   ],
   "source": [
    "# Check size of document to decide if we need to split\n",
    "i = 0\n",
    "for doc in list_of_documents_loaded:\n",
    "    i += 1\n",
    "    print(f'Document {i} -  has {count_tokens(doc.page_content)} tokens') "
   ]
  },
  {
   "cell_type": "code",
   "execution_count": 21,
   "id": "f406a26e-631b-4c01-ba1b-cf7de3fc895e",
   "metadata": {},
   "outputs": [],
   "source": [
    "from langchain_community.vectorstores import Chroma\n",
    "# Create the vector database\n",
    "vectordb = Chroma.from_documents(\n",
    "    documents=list_of_documents_loaded,\n",
    "    embedding=embeddings_model,\n",
    "    collection_name=\"naive_splitter\", \n",
    "    persist_directory=\"./vector_db\"\n",
    ")"
   ]
  },
  {
   "cell_type": "code",
   "execution_count": 23,
   "id": "0cd51df4-4406-4260-a562-613e20118ace",
   "metadata": {},
   "outputs": [],
   "source": [
    "# Create the RAG pipeline\n",
    "# V short codes as we are using langchain predefine function\n",
    "from langchain.chains import RetrievalQA #QA = Question and Answer\n",
    "\n",
    "# The `llm` is defined earlier in the notebook (using GPT-4o-mini)\n",
    "rag_chain = RetrievalQA.from_llm(\n",
    "    retriever=vectordb.as_retriever(), llm=llm\n",
    ")"
   ]
  },
  {
   "cell_type": "code",
   "execution_count": 25,
   "id": "37c53e91-8d95-4ca3-aa46-398f447a161b",
   "metadata": {},
   "outputs": [
    {
     "name": "stdout",
     "output_type": "stream",
     "text": [
      "The maximum Daily Withdrawal Limit for online CPF withdrawals will be lowered to $50,000 effective from 25 September 2024.\n"
     ]
    }
   ],
   "source": [
    "# Now we can use the RAG pipeline to ask questions\n",
    "# Let's ask a question that we know is in the documents\n",
    "# Once you provide a question, you get an answer, detail of where the info etc come from is not visible\n",
    "llm_response = rag_chain.invoke('What is maximum Daily Withdrawal Limit for online CPF withdrawals ?')\n",
    "print(llm_response['result'])"
   ]
  },
  {
   "cell_type": "code",
   "execution_count": null,
   "id": "f059b873-1f68-4205-98f0-7f636e8078f1",
   "metadata": {},
   "outputs": [],
   "source": []
  }
 ],
 "metadata": {
  "kernelspec": {
   "display_name": "Python 3 (ipykernel)",
   "language": "python",
   "name": "python3"
  },
  "language_info": {
   "codemirror_mode": {
    "name": "ipython",
    "version": 3
   },
   "file_extension": ".py",
   "mimetype": "text/x-python",
   "name": "python",
   "nbconvert_exporter": "python",
   "pygments_lexer": "ipython3",
   "version": "3.12.4"
  }
 },
 "nbformat": 4,
 "nbformat_minor": 5
}
