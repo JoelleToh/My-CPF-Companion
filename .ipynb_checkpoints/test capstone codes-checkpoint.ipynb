{
 "cells": [
  {
   "cell_type": "code",
   "execution_count": 1,
   "id": "a0e30a1f-b875-46ff-8ffc-0a226472ac64",
   "metadata": {},
   "outputs": [],
   "source": [
    "# Common imports\n",
    "import os\n",
    "from dotenv import load_dotenv\n",
    "from openai import OpenAI\n",
    "from langchain_openai import ChatOpenAI\n",
    "from langchain_openai import OpenAIEmbeddings\n",
    "\n",
    "# Importing Dependencies for RAG\n",
    "from langchain_community.vectorstores import Chroma\n",
    "from langchain_openai import OpenAIEmbeddings\n",
    "from langchain_text_splitters import RecursiveCharacterTextSplitter\n",
    "\n",
    "#Import the key CrewAI classes\n",
    "# from crewai import Agent, Task, Crew\n",
    "\n",
    "import json\n",
    "import lolviz\n"
   ]
  },
  {
   "cell_type": "code",
   "execution_count": 3,
   "id": "ececefb8-5520-473d-9c5c-53b4be38d306",
   "metadata": {},
   "outputs": [
    {
     "data": {
      "text/plain": [
       "True"
      ]
     },
     "execution_count": 3,
     "metadata": {},
     "output_type": "execute_result"
    }
   ],
   "source": [
    "# Load .env for API password\n",
    "load_dotenv('.env')"
   ]
  },
  {
   "cell_type": "code",
   "execution_count": 5,
   "id": "0d8c92d5-da82-43bf-b3f3-21dc682668e7",
   "metadata": {},
   "outputs": [
    {
     "name": "stdout",
     "output_type": "stream",
     "text": [
      "OPENAI_MODEL_NAME = \"gpt-4o-mini\"\n"
     ]
    }
   ],
   "source": [
    "# Check which openAI model we using \n",
    "print(f'OPENAI_MODEL_NAME = \"{os.getenv('OPENAI_MODEL_NAME')}\"')"
   ]
  },
  {
   "cell_type": "code",
   "execution_count": 7,
   "id": "70ab00d1-de06-44ac-9c68-9f0d186fd197",
   "metadata": {},
   "outputs": [],
   "source": [
    "# cannot access cpf website using this method \n",
    "\n",
    "# from crewai_tools import WebsiteSearchTool\n",
    "    # Create a new instance of the WebsiteSearchTool\n",
    "    # Set the base URL of a website so that the tool can search for sub-pages on that website\n",
    "# tool_websearch = WebsiteSearchTool(\"https://abc-notes.data.tech.gov.sg/\")\n"
   ]
  },
  {
   "cell_type": "code",
   "execution_count": 5,
   "id": "08101d14-3b69-44fb-91a7-3df4c78f1e05",
   "metadata": {},
   "outputs": [],
   "source": [
    "# Note that this function directly take in \"messages\" as the parameter.\n",
    "def get_completion(messages, model=\"gpt-4o-mini\", temperature=0, top_p=1.0, max_tokens=1024, n=1):\n",
    "    response = client.chat.completions.create(\n",
    "        model=model,\n",
    "        messages=messages,\n",
    "        temperature=temperature,\n",
    "        top_p=top_p,\n",
    "        max_tokens=max_tokens,\n",
    "        n=1\n",
    "    )\n",
    "    return response.choices[0].message.content"
   ]
  },
  {
   "cell_type": "code",
   "execution_count": 7,
   "id": "9b35b3bc-cd9a-450f-8c35-820ba0aac2dd",
   "metadata": {},
   "outputs": [],
   "source": [
    "API_KEY = os.getenv(\"OPENAI_API_KEY\")\n",
    "\n",
    "client = OpenAI(api_key=API_KEY)"
   ]
  },
  {
   "cell_type": "code",
   "execution_count": 9,
   "id": "0774deff-243e-42fd-ad5e-7fd46be4aa75",
   "metadata": {},
   "outputs": [],
   "source": [
    "# This function is for calculating the tokens given the \"message\"\n",
    "# ⚠️ This is simplified implementation that is good enough for a rough estimation\n",
    "\n",
    "import tiktoken\n",
    "\n",
    "def count_tokens(text):\n",
    "    encoding = tiktoken.encoding_for_model('gpt-4o-mini')\n",
    "    return len(encoding.encode(text))\n",
    "\n",
    "def count_tokens_from_message_rough(messages):\n",
    "    encoding = tiktoken.encoding_for_model('gpt-4o-mini')\n",
    "    value = ' '.join([x.get('content') for x in messages])\n",
    "    return len(encoding.encode(value))"
   ]
  },
  {
   "cell_type": "code",
   "execution_count": 11,
   "id": "f01b1660-28f3-4662-b2d5-694bb848192a",
   "metadata": {},
   "outputs": [],
   "source": [
    "# embedding model that we will use for the session\n",
    "embeddings_model = OpenAIEmbeddings(model='text-embedding-3-small')\n",
    "\n",
    "# llm to be used in RAG pipeplines in this notebook\n",
    "llm = ChatOpenAI(model='gpt-4o-mini', temperature=0, seed=42)"
   ]
  },
  {
   "cell_type": "code",
   "execution_count": 13,
   "id": "8fc2cc2c-f021-4bd2-9366-2e8ccd92737b",
   "metadata": {},
   "outputs": [],
   "source": [
    "messages = [\n",
    "        {\"role\": \"system\", \"content\": \"You are a helpful assistant from the Central Provident Fund (CPF) of Singapore, \\\n",
    "        you are well versed in CPF Policy. Information must come from https://www.cpf.gov.sg/ and always base on Singapore context.\"},\n",
    "        {\"role\": \"user\", \"content\": \"tell me about three basic needs in retirement\"}\n",
    "    ]"
   ]
  },
  {
   "cell_type": "code",
   "execution_count": 51,
   "id": "4143e0db-05aa-4e66-a30a-f14771bb6397",
   "metadata": {},
   "outputs": [
    {
     "data": {
      "text/plain": [
       "\"In retirement, individuals typically focus on three basic needs to ensure a comfortable and secure lifestyle. These needs are:\\n\\n1. **Income for Daily Living Expenses**: Retirees need a steady income to cover their daily living expenses, such as food, housing, utilities, and transportation. In Singapore, the Central Provident Fund (CPF) provides various schemes to help retirees generate income, such as the CPF LIFE scheme, which offers lifelong monthly payouts to help meet these expenses.\\n\\n2. **Healthcare Costs**: As individuals age, healthcare needs often increase. It is essential for retirees to plan for medical expenses, including regular check-ups, medications, and potential hospitalizations. In Singapore, the MediSave scheme allows individuals to set aside savings for medical expenses, and the MediShield Life insurance provides coverage for large hospital bills.\\n\\n3. **Housing Needs**: Having a stable and comfortable living environment is crucial in retirement. Many retirees may choose to downsize or relocate to more suitable housing. In Singapore, the Housing and Development Board (HDB) provides various options for retirees, including the Lease Buyback Scheme, which allows seniors to sell part of their flat's lease back to HDB for additional cash while continuing to live in their homes.\\n\\nPlanning for these basic needs is essential for a secure and fulfilling retirement in Singapore.\""
      ]
     },
     "execution_count": 51,
     "metadata": {},
     "output_type": "execute_result"
    }
   ],
   "source": [
    "#get_completion (messages)"
   ]
  },
  {
   "cell_type": "code",
   "execution_count": 29,
   "id": "c021851a-aea9-4af6-80f6-8fff5ca5c801",
   "metadata": {},
   "outputs": [
    {
     "ename": "NameError",
     "evalue": "name 'vectordb' is not defined",
     "output_type": "error",
     "traceback": [
      "\u001b[1;31m---------------------------------------------------------------------------\u001b[0m",
      "\u001b[1;31mNameError\u001b[0m                                 Traceback (most recent call last)",
      "Cell \u001b[1;32mIn[29], line 3\u001b[0m\n\u001b[0;32m      1\u001b[0m \u001b[38;5;66;03m# `MultiQueryRetriever` improve user query by generates multiple queries\u001b[39;00m\n\u001b[0;32m      2\u001b[0m retriever_multiquery \u001b[38;5;241m=\u001b[39m MultiQueryRetriever\u001b[38;5;241m.\u001b[39mfrom_llm(\n\u001b[1;32m----> 3\u001b[0m   retriever\u001b[38;5;241m=\u001b[39mvectordb\u001b[38;5;241m.\u001b[39mas_retriever(), llm\u001b[38;5;241m=\u001b[39mllm,\n\u001b[0;32m      4\u001b[0m )\n",
      "\u001b[1;31mNameError\u001b[0m: name 'vectordb' is not defined"
     ]
    }
   ],
   "source": [
    "# `MultiQueryRetriever` improve user query by generates multiple queries\n",
    "retriever_multiquery = MultiQueryRetriever.from_llm(\n",
    "  retriever=vectordb.as_retriever(), llm=llm,\n",
    ")"
   ]
  },
  {
   "cell_type": "code",
   "execution_count": 15,
   "id": "c5755a24-9159-4839-ba1d-dfa546646299",
   "metadata": {},
   "outputs": [
    {
     "name": "stdout",
     "output_type": "stream",
     "text": [
      "['cpf.gov.sg-Extends 4 percent interest rate floor until 31 Dec 25.pdf', 'cpf.gov.sg-Guide to your healthcare insurance coverage.pdf', 'cpf.gov.sg-Lowering of maximum Daily Withdrawal Limit to 50000 for online CPF withdrawals.pdf', 'cpf.gov.sg-New default daily limit of 2000 for online CPF withdrawals.pdf']\n"
     ]
    }
   ],
   "source": [
    "# Get the name of the files in the folder\n",
    "\n",
    "# folder path\n",
    "dir_path = r'./News Releases'\n",
    "\n",
    "# list to store files\n",
    "filename_list = []\n",
    "\n",
    "# Iterate directory\n",
    "for path in os.listdir(dir_path):\n",
    "    # check if current path is a file\n",
    "    if os.path.isfile(os.path.join(dir_path, path)):\n",
    "        filename_list.append(path)\n",
    "print(filename_list)"
   ]
  },
  {
   "cell_type": "code",
   "execution_count": null,
   "id": "a4ce5d12-1a36-4f71-8736-4f861e8f3e4a",
   "metadata": {},
   "outputs": [],
   "source": [
    "# Function to load an entire PDF document as a single document\n",
    "def load_entire_pdf_as_document(path):\n",
    "    loader = PyPDFLoader(path)\n",
    "    pages = loader.load()\n",
    "    full_text = \"\\n\".join(page.page_content for page in pages)\n",
    "    return full_text\n",
    "\n",
    "# Load the documents\n",
    "list_of_documents_loaded = []\n",
    "for filename in filename_list:\n",
    "    if filename.endswith('.pdf'):  # Check file type\n",
    "        try:\n",
    "            # Construct the path to the PDF file\n",
    "            pdf_path = os.path.join('News Releases', filename)\n",
    "            # Load the entire PDF as a single document\n",
    "            full_text = load_entire_pdf_as_document(pdf_path)\n",
    "            list_of_documents_loaded.append(full_text)\n",
    "            print(f\"Loaded {filename}\")\n",
    "\n",
    "        except Exception as e:\n",
    "            # If there is an error loading the document, print the error and continue to the next document\n",
    "            print(f\"Error loading {filename}: {e}\")\n",
    "            continue"
   ]
  },
  {
   "cell_type": "code",
   "execution_count": null,
   "id": "1a42c5a5-a27c-4262-84db-06d6dbfece04",
   "metadata": {},
   "outputs": [],
   "source": [
    "from langchain.document_loaders import PyPDFLoader\n",
    "\n",
    "# load the documents\n",
    "list_of_documents_loaded = []\n",
    "for filename in filename_list:\n",
    "  if filename.endswith('.pdf'): # Check file type\n",
    "    try:\n",
    "        # try to load the document\n",
    "        markdown_path = os.path.join('News Releases', filename)\n",
    "        loader = PyPDFLoader(markdown_path)\n",
    "\n",
    "        # load() returns a list of Document objects\n",
    "        data = loader.load()\n",
    "        # use extend() to add to the list_of_documents_loaded\n",
    "        list_of_documents_loaded.extend(data)\n",
    "        print(f\"Loaded {filename}\")\n",
    "\n",
    "    except Exception as e:\n",
    "        # if there is an error loading the document, print the error and continue to the next document\n",
    "        print(f\"Error loading {filename}: {e}\")\n",
    "        continue"
   ]
  },
  {
   "cell_type": "code",
   "execution_count": 35,
   "id": "1de1ad41-6421-435f-be6a-7325d38f25cc",
   "metadata": {},
   "outputs": [
    {
     "data": {
      "text/plain": [
       "\"1 / 2Government extends 4% interest rate floor on Special,\\nMediSave and Retirement Account monies until 31\\nDecember 2025\\ncpf.gov .sg/member/infohub/news/news-releases/government-extends-4-per-cent-interest-rate-floor-on-special-\\nmedisave-and-retirement-account-monies-until-31-december-2025\\nOne-year extension of minimum 4% interest rate floor on Special, MediSave and\\nRetirement Account monies from 1 January to 31 December 2025\\nCPF Interest Rates from 1 October to 31 December 2024\\nOrdinary Account Special, MediSave and Retirement Accounts\\nInterest Rate 2.5% 4.14%\\nCPF members aged below 55\\nMembers earn an extra 1% interest  on the first $60,000 of their combined CPF\\nbalances\\nCPF members aged 55 and above\\nMembers earn an extra 2% interest  on the first $30,000 of their combined CPF\\nbalances, and an extra 1%  on the next $30,000\\nHDB Concessionary Interest Rate from 1 October to 31 December 2024\\nRemains unchanged at 2.6%\\nNote: All interest rates are quoted on a per annum basis.\\nThe Government has extended the 4% interest rate floor for interest earned on all Special,\\nMediSave and Retirement Account (SMRA) monies for another year from 1 January to 31\\nDecember 2025. This extension of the floor rate will continue to provide CPF members with\\ncertainty on the returns of their CPF savings amidst the volatile interest rate environment.\\nInterest Rate for CPF Special, MediSave and Retirement Accounts\\nWith the Special, MediSave and Retirement Accounts (SMRA) pegged rate exceeding the\\nfloor rate of 4%, savings in the SMRA will earn 4.14% in the fourth quarter of 2024, from 1\\nOctober to 31 December 2024. The SMRA interest rate is pegged to the 12-month average\\nyield of 10-year Singapore Government Securities (10YSGS) plus 1%. \\n2 / 2Interest Rate for CPF Ordinary Account and HDB Concessionary Interest Rate\\nThe Ordinary Account (OA) interest rate will remain unchanged at 2.5% from 1 October to 31\\nDecember 2024, as the OA pegged rate remains below the floor rate of 2.5%.\\nCorrespondingly , the concessionary interest rate for HDB housing loans, which is pegged at\\n0.1% above the OA interest rate, will remain unchanged at 2.6% from 1 October to 31\\nDecember 2024. \\nExtra Interest paid on CPF balances\\nAs part of the Government’ s efforts to boost CPF members' retirement savings, CPF\\nmembers will continue to earn extra interest on their CPF savings. For members aged below\\n55, they will earn an extra 1% interest on the first $60,000 of their combined balances\\n(capped at $20,000 for OA). For members aged 55 and above, the Government pays an\\nextra 2% interest on the first $30,000 of their combined balances (capped at $20,000 for\\nOA), and an extra 1% on the next $30,000.\\nThe extra interest earned on the OA balances will go into the member ’s Special Account or\\nRetirement Account. If a member is aged above 55 and participates in CPF LIFE, the extra\\ninterest will still be earned on his or her combined CPF balances, which includes the savings\\nused for CPF LIFE.\\nPublic Enquiries\\nFor more information on CPF interest rates and their computation, please visit CPF Interest\\nRates .  \""
      ]
     },
     "execution_count": 35,
     "metadata": {},
     "output_type": "execute_result"
    }
   ],
   "source": [
    "list_of_documents_loaded[0]"
   ]
  },
  {
   "cell_type": "code",
   "execution_count": 23,
   "id": "f98e6c97-2f3f-48ce-b794-2c169700fb2d",
   "metadata": {},
   "outputs": [
    {
     "data": {
      "text/plain": [
       "{'source': 'News Releases\\\\cpf.gov.sg-Extends 4 percent interest rate floor until 31 Dec 25.pdf',\n",
       " 'page': 0}"
      ]
     },
     "execution_count": 23,
     "metadata": {},
     "output_type": "execute_result"
    }
   ],
   "source": [
    "list_of_documents_loaded[0].metadata"
   ]
  },
  {
   "cell_type": "code",
   "execution_count": 33,
   "id": "e9af65f3-60aa-44e2-9faf-378fe7cb3e5d",
   "metadata": {},
   "outputs": [
    {
     "data": {
      "text/plain": [
       "4"
      ]
     },
     "execution_count": 33,
     "metadata": {},
     "output_type": "execute_result"
    }
   ],
   "source": [
    "len(list_of_documents_loaded)"
   ]
  },
  {
   "cell_type": "code",
   "execution_count": 29,
   "id": "493dda44-6596-458c-a275-58dc9d0e3c7b",
   "metadata": {},
   "outputs": [
    {
     "data": {
      "text/plain": [
       "{'source': 'News Releases\\\\cpf.gov.sg-Extends 4 percent interest rate floor until 31 Dec 25.pdf',\n",
       " 'page': 1}"
      ]
     },
     "execution_count": 29,
     "metadata": {},
     "output_type": "execute_result"
    }
   ],
   "source": [
    "list_of_documents_loaded[1].metadata"
   ]
  },
  {
   "cell_type": "code",
   "execution_count": null,
   "id": "35e71641-d0fd-4dc5-8e19-0d4c02fcf73a",
   "metadata": {},
   "outputs": [],
   "source": [
    "# Initialize session state if not already done\n",
    "if 'LLM_reply' not in st.session_state:\n",
    "    st.session_state['LLM_reply'] = ''\n",
    "\n",
    "if 'user_prompt1' not in st.session_state:\n",
    "    st.session_state['user_prompt1'] = ''\n",
    "\n",
    "# Form submission\n",
    "\n",
    "\n",
    "if form.form_submit_button(\"Submit\"):\n",
    "    # Prepare the messages for the LLM\n",
    "      \n",
    "    system_message = f\"\"\" You are a helpful assistant from the Central Provident Fund (CPF) of Singapore,\\\n",
    "    you are well versed in CPF Policy. \n",
    "\n",
    "    Understand the customer service query and decide if the query is related CPF policy.\n",
    "    Query is related to CPF policy, procced to reply using information from https://www.cpf.gov.sg/ and it must be based on Singapore context.\n",
    "    Query NOT related to CPF policy, reply: I'm unable to assist as the enquiry is not related to CPF policy. \n",
    "    \"\"\"\n",
    "    messages = [\n",
    "        {\"role\": \"system\", \"content\": system_message},\n",
    "        {\"role\": \"user\", \"content\": st.session_state['user_prompt1']},\n",
    "        {\"role\": \"assistant\", \"content\": st.session_state['LLM_reply']},\n",
    "        {\"role\": \"user\", \"content\": user_prompt2}\n",
    "    ]\n",
    "    \n",
    "    # Call the helper function to get the completion\n",
    "    response = llm.get_completion(messages)  # Ensure llm is defined and imported correctly\n",
    "    \n",
    "    # Update session state with the new user input and LLM response\n",
    "    st.session_state['user_prompt1'] = user_prompt2\n",
    "    st.session_state['LLM_reply'] = response\n",
    "\n",
    "    # This calls the helper function that we have created \n",
    "    response = llm.get_completion(messages) \n",
    "    # This displays the response generated by the LLM onto the frontend \n",
    "    st.write(response) \n",
    "    print(f\"User Input is {user_prompt2}\")\n",
    "\n"
   ]
  },
  {
   "cell_type": "code",
   "execution_count": null,
   "id": "024044f5-9442-49ac-901f-03ee3b665796",
   "metadata": {},
   "outputs": [],
   "source": [
    "from dotenv import load_dotenv\n",
    "from helper_functions import llm"
   ]
  }
 ],
 "metadata": {
  "kernelspec": {
   "display_name": "Python 3 (ipykernel)",
   "language": "python",
   "name": "python3"
  },
  "language_info": {
   "codemirror_mode": {
    "name": "ipython",
    "version": 3
   },
   "file_extension": ".py",
   "mimetype": "text/x-python",
   "name": "python",
   "nbconvert_exporter": "python",
   "pygments_lexer": "ipython3",
   "version": "3.12.4"
  }
 },
 "nbformat": 4,
 "nbformat_minor": 5
}
